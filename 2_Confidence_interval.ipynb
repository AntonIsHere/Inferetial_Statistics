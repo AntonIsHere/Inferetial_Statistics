{
 "cells": [
  {
   "cell_type": "code",
   "execution_count": 1,
   "metadata": {},
   "outputs": [],
   "source": [
    "import matplotlib.pyplot as plt\n",
    "import numpy as np\n",
    "import pandas as pd\n",
    "import matplotlib.lines as mlines\n",
    "from scipy.stats import norm"
   ]
  },
  {
   "cell_type": "markdown",
   "metadata": {},
   "source": [
    "## Disclaimer\n",
    "This notebook based on labs from Inferential Statistics course by Duke University from https://www.coursera.org/learn/inferential-statistics-intro <br>\n",
    "I adapted R code from these labs and reproduced in Jupyter Notebooks and rewrote in Python"
   ]
  },
  {
   "cell_type": "markdown",
   "metadata": {},
   "source": [
    "## The data\n",
    "We consider real estate data from the city of Ames, Iowa. This is the same dataset used in the previous lab. The details of every real estate transaction in Ames is recorded by the City Assessor’s office. Our particular focus for this lab will be all residential home sales in Ames between 2006 and 2010. This collection represents our population of interest. In this lab we would like to learn about these home sales by taking smaller samples from the full population. Let’s load the data."
   ]
  },
  {
   "cell_type": "code",
   "execution_count": 2,
   "metadata": {},
   "outputs": [],
   "source": [
    "data_frame = pd.read_csv(\"https://raw.githubusercontent.com/AntonIsHere/Inferetial_Statistics/master/ames.csv\")\n",
    "# print(data_frame)\n",
    "# data_frame.to_csv(output_file, index=False)\n",
    "area = data_frame['area']"
   ]
  },
  {
   "cell_type": "markdown",
   "metadata": {},
   "source": [
    "In this lab we’ll start with a simple random sample of size 60 from the population. Specifically, this is a simple random sample of size 60. Note that the data set has information on many housing variables, but for the first portion of the lab we’ll focus on the size of the house, represented by the variable area."
   ]
  },
  {
   "cell_type": "code",
   "execution_count": 3,
   "metadata": {},
   "outputs": [],
   "source": [
    "n = 60\n",
    "#data_frame.sample(n, replace=True)"
   ]
  },
  {
   "cell_type": "markdown",
   "metadata": {},
   "source": [
    "## Confidence intervals\n",
    "\n",
    "Return for a moment to the question that first motivated this lab: based on this sample, what can we infer about the population? Based only on this single sample, the best estimate of the average living area of houses sold in Ames would be the sample mean, usually denoted as x¯ (here we’re calling it x_bar). That serves as a good point estimate but it would be useful to also communicate how uncertain we are of that estimate. This uncertainty can be quantified using a confidence interval.\n",
    "\n",
    "A confidence interval for a population mean is of the following form"
   ]
  },
  {
   "cell_type": "markdown",
   "metadata": {},
   "source": [
    "$$\\hat{x} \\pm z*\\frac{s}{\\sqrt{n}}$$"
   ]
  },
  {
   "cell_type": "markdown",
   "metadata": {},
   "source": [
    "What does “95% confidence” mean?\n",
    "\n",
    "- 95% of random samples of size 60 will yield confidence intervals that contain the true average area of houses in Ames, Iowa."
   ]
  },
  {
   "cell_type": "markdown",
   "metadata": {},
   "source": [
    "You should by now be comfortable with calculating the mean and standard deviation of a sample in Python. And we know that the sample size is 60. So the only remaining building block is finding the appropriate critical value for a given confidence level. We can use the qnorm function for this task, which will give the critical value associated with a given percentile under the normal distribution. Remember that confidence levels and percentiles are not equivalent. For example, a 95% confidence level refers to the middle 95% of the distribution, and the critical value associated with this area will correspond to the 97.5th percentile.\n",
    "\n",
    "We can find the critical value for a 95% confidence interal using"
   ]
  },
  {
   "cell_type": "code",
   "execution_count": 4,
   "metadata": {},
   "outputs": [
    {
     "data": {
      "text/plain": [
       "1.959963984540054"
      ]
     },
     "execution_count": 4,
     "metadata": {},
     "output_type": "execute_result"
    }
   ],
   "source": [
    "z_star_95 = norm.ppf(.975)\n",
    "z_star_95"
   ]
  },
  {
   "cell_type": "markdown",
   "metadata": {},
   "source": [
    "which is roughly equal to the value critical value 1.96 that you’re likely familiar with by now.\n",
    "\n",
    "Let’s finally calculate the confidence interval:"
   ]
  },
  {
   "cell_type": "code",
   "execution_count": 5,
   "metadata": {},
   "outputs": [
    {
     "data": {
      "text/html": [
       "<div>\n",
       "<style scoped>\n",
       "    .dataframe tbody tr th:only-of-type {\n",
       "        vertical-align: middle;\n",
       "    }\n",
       "\n",
       "    .dataframe tbody tr th {\n",
       "        vertical-align: top;\n",
       "    }\n",
       "\n",
       "    .dataframe thead th {\n",
       "        text-align: right;\n",
       "    }\n",
       "</style>\n",
       "<table border=\"1\" class=\"dataframe\">\n",
       "  <thead>\n",
       "    <tr style=\"text-align: right;\">\n",
       "      <th></th>\n",
       "      <th>lower</th>\n",
       "      <th>upper</th>\n",
       "    </tr>\n",
       "  </thead>\n",
       "  <tbody>\n",
       "    <tr>\n",
       "      <th>0</th>\n",
       "      <td>1371.803227</td>\n",
       "      <td>1627.577661</td>\n",
       "    </tr>\n",
       "  </tbody>\n",
       "</table>\n",
       "</div>"
      ],
      "text/plain": [
       "         lower        upper\n",
       "0  1371.803227  1627.577661"
      ]
     },
     "execution_count": 5,
     "metadata": {},
     "output_type": "execute_result"
    }
   ],
   "source": [
    "d = {'lower': [np.average(area) - z_star_95 * (np.std(area)/np.sqrt(n))], \n",
    "     'upper': [np.average(area) + z_star_95 * (np.std(area)/np.sqrt(n))]}\n",
    "Conf_interval = pd.DataFrame(data = d)\n",
    "Conf_interval"
   ]
  },
  {
   "cell_type": "markdown",
   "metadata": {},
   "source": [
    "To recap: even though we don’t know what the full population looks like, we’re 95% confident that the true average size of houses in Ames lies between the values lower and upper. There are a few conditions that must be met for this interval to be valid."
   ]
  },
  {
   "cell_type": "markdown",
   "metadata": {},
   "source": [
    "Using Python, we’re going to collect many samples to learn more about how sample means and confidence intervals vary from one sample to another.\n",
    "\n",
    "Here is the rough outline:\n",
    "\n",
    "* Obtain a random sample.\n",
    "* Calculate the sample’s mean and standard deviation, and use these to calculate and store the lower and upper bounds of the confidence intervals.\n",
    "* Repeat these steps 50 times.\n",
    "\n",
    "We can accomplish this using the rep_sample_n function. The following lines of code takes 50 random samples of size n from population (and remember we defined n=60 earlier), and computes the upper and lower bounds of the confidence intervals based on these samples."
   ]
  },
  {
   "cell_type": "code",
   "execution_count": 6,
   "metadata": {
    "scrolled": true
   },
   "outputs": [],
   "source": [
    "CI = pd.DataFrame(columns=('lower', 'upper'))\n",
    "\n",
    "\n",
    "for i in range(50):\n",
    "    d1 = data_frame.sample(n, replace=True)\n",
    "    intervals = pd.DataFrame(data = {'lower': [np.average(d1['area']) - z_star_95 * (np.std(d1['area'])/np.sqrt(n))], \n",
    "     'upper': [np.average(d1['area']) + z_star_95 * (np.std(d1['area'])/np.sqrt(n))]})\n",
    "    CI = pd.concat([CI, intervals], ignore_index = True)\n",
    "    CI.loc[i,'capture_mu'] = 'yes' if CI.loc[i,'lower'] < np.average(area) and CI.loc[i,'upper'] > np.average(area) else 'no'\n",
    "CI.reset_index(inplace=True)\n",
    "#CI"
   ]
  },
  {
   "cell_type": "markdown",
   "metadata": {},
   "source": [
    "## Dumbell Plot\n",
    "\n",
    "Let's visualise our confidence intervals using Dumbell Plot to see how these intervals vary from one sample to another"
   ]
  },
  {
   "cell_type": "code",
   "execution_count": 7,
   "metadata": {
    "scrolled": false
   },
   "outputs": [
    {
     "data": {
      "image/png": "[encoded data removed]",
      "text/plain": [
       "<Figure size 800x800 with 1 Axes>"
      ]
     },
     "metadata": {},
     "output_type": "display_data"
    }
   ],
   "source": [
    "# Func to draw line segment\n",
    "def newline(p1, p2, p3, color='black'):\n",
    "    ax = plt.gca()\n",
    "    l = mlines.Line2D([p1[0],p2[0]], [p1[1],p2[1]], color = 'skyblue' if p3[0] == 'yes' else 'red') \n",
    "    ax.add_line(l)\n",
    "    return l\n",
    "\n",
    "# Figure and Axes\n",
    "fig, ax = plt.subplots(1,1,figsize=(10,10), facecolor='#f7f7f7', dpi= 80)\n",
    "\n",
    "# Vertical Lines\n",
    "ax.vlines(x=np.average(area), ymin=0, ymax=50, color='black', alpha=1, linewidth=1, linestyles='dotted')\n",
    "\n",
    "# Labels\n",
    "ax.set_xlabel(\"ci_bounds\")\n",
    "ax.set_ylabel(\"ci_id\")\n",
    "\n",
    "# Line Segments and Points\n",
    "for i, p1, p2, p3 in zip(CI['index'], CI['lower'], CI['upper'], CI['capture_mu']):\n",
    "    newline([p1, i], [p2, i], [p3, i])    \n",
    "    ax.scatter(y=CI.loc[i,'index'], x=CI.loc[i,'lower'], s=50, color='#0e668b' if CI.loc[i,'capture_mu'] == 'yes' else 'red', alpha=0.7)\n",
    "    ax.scatter(y=CI.loc[i,'index'], x=CI.loc[i,'upper'], s=50, color='#0e668b' if CI.loc[i,'capture_mu'] == 'yes' else 'red', alpha=0.7)\n",
    "\n",
    "\n",
    "# Decoration\n",
    "ax.set_facecolor('#f7f7f7')\n",
    "ax.set_title(\"Confidence intervals\", fontdict={'size':22}) \n",
    "\n",
    "plt.show()\n"
   ]
  }
 ],
 "metadata": {
  "kernelspec": {
   "display_name": "Python 3",
   "language": "python",
   "name": "python3"
  },
  "language_info": {
   "codemirror_mode": {
    "name": "ipython",
    "version": 3
   },
   "file_extension": ".py",
   "mimetype": "text/x-python",
   "name": "python",
   "nbconvert_exporter": "python",
   "pygments_lexer": "ipython3",
   "version": "3.8.3"
  }
 },
 "nbformat": 4,
 "nbformat_minor": 4
}
