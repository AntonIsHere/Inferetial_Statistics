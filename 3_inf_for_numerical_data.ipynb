{
 "cells": [
  {
   "cell_type": "code",
   "execution_count": 1,
   "metadata": {},
   "outputs": [],
   "source": [
    "import matplotlib.pyplot as plt\n",
    "import numpy as np\n",
    "import pandas as pd\n",
    "import statsmodels.stats.api as sms\n",
    "from scipy.stats import norm\n",
    "from scipy.stats import stats"
   ]
  },
  {
   "cell_type": "markdown",
   "metadata": {},
   "source": [
    "## Disclaimer\n",
    "This notebook based on labs from Inferential Statistics course by Duke University from https://www.coursera.org/learn/inferential-statistics-intro <br>\n",
    "I adapted R code from these labs and reproduced in Jupyter Notebooks and rewrote in Python"
   ]
  },
  {
   "cell_type": "markdown",
   "metadata": {},
   "source": [
    "## The data\n",
    "In 2004, the state of North Carolina released a large data set containing information on births recorded in this state. This data set is useful to researchers studying the relation between habits and practices of expectant mothers and the birth of their children. We will work with a random sample of observations from this data set."
   ]
  },
  {
   "cell_type": "code",
   "execution_count": 2,
   "metadata": {},
   "outputs": [],
   "source": [
    "df = pd.read_csv(\"https://raw.githubusercontent.com/AntonIsHere/Inferetial_Statistics/master/nc.csv\")"
   ]
  },
  {
   "cell_type": "markdown",
   "metadata": {},
   "source": [
    "We have observations on 13 different variables, some categorical and some numerical. The meaning of each variable is as follows.\n",
    "\n",
    "|variable|description|\n",
    "|:------|:------|\n",
    "|fage |father’s age in years. |\n",
    "|mage |mother’s age in years. |\n",
    "|mature\t|maturity status of mother.|\n",
    "|weeks\t|length of pregnancy in weeks.|\n",
    "|premie\t|whether the birth was classified as premature (premie) or full-term.|\n",
    "|visits\t|number of hospital visits during pregnancy.|\n",
    "|marital\t|whether mother is married or not married at birth.|\n",
    "|gained\t|weight gained by mother during pregnancy in pounds.|\n",
    "|weight\t|weight of the baby at birth in pounds.|\n",
    "|lowbirthweight\t|whether baby was classified as low birthweight (low) or not (not low).|\n",
    "|gender\t|gender of the baby, female or male.|\n",
    "|habit\t|status of the mother as a nonsmoker or a smoker.|\n",
    "|whitemom\t|whether mom is white or not white.|"
   ]
  },
  {
   "cell_type": "markdown",
   "metadata": {},
   "source": [
    "As a first step in the analysis, we should take a look at the variables in the dataset. This can be done using the ***.dtypes*** command:"
   ]
  },
  {
   "cell_type": "code",
   "execution_count": 3,
   "metadata": {},
   "outputs": [
    {
     "data": {
      "text/plain": [
       "Unnamed: 0          int64\n",
       "fage              float64\n",
       "mage                int64\n",
       "mature             object\n",
       "weeks             float64\n",
       "premie             object\n",
       "visits            float64\n",
       "marital            object\n",
       "gained            float64\n",
       "weight            float64\n",
       "lowbirthweight     object\n",
       "gender             object\n",
       "habit              object\n",
       "whitemom           object\n",
       "dtype: object"
      ]
     },
     "execution_count": 3,
     "metadata": {},
     "output_type": "execute_result"
    }
   ],
   "source": [
    "df.dtypes"
   ]
  },
  {
   "cell_type": "markdown",
   "metadata": {},
   "source": [
    "## Exploratory data analysis"
   ]
  },
  {
   "cell_type": "markdown",
   "metadata": {},
   "source": [
    "We will first start with analyzing the weight gained by mothers throughout the pregnancy: gained.\n",
    "\n",
    "Using visualization and summary statistics, describe the distribution of weight gained by mothers during pregnancy. The summary function can also be useful."
   ]
  },
  {
   "cell_type": "code",
   "execution_count": 4,
   "metadata": {},
   "outputs": [
    {
     "data": {
      "text/plain": [
       "count    973.000000\n",
       "mean      30.325797\n",
       "std       14.241297\n",
       "min        0.000000\n",
       "25%       20.000000\n",
       "50%       30.000000\n",
       "75%       38.000000\n",
       "max       85.000000\n",
       "Name: gained, dtype: float64"
      ]
     },
     "execution_count": 4,
     "metadata": {},
     "output_type": "execute_result"
    }
   ],
   "source": [
    "df['gained'].describe()"
   ]
  },
  {
   "cell_type": "markdown",
   "metadata": {},
   "source": [
    "Next, consider the possible relationship between a mother’s smoking habit and the weight of her baby. Plotting the data is a useful first step because it helps us quickly visualize trends, identify strong associations, and develop research questions."
   ]
  },
  {
   "cell_type": "code",
   "execution_count": 5,
   "metadata": {},
   "outputs": [
    {
     "data": {
      "image/png": "[encoded data removed]",
      "text/plain": [
       "<Figure size 432x288 with 1 Axes>"
      ]
     },
     "metadata": {
      "needs_background": "light"
     },
     "output_type": "display_data"
    }
   ],
   "source": [
    "boxplot = df.boxplot(column=['weight'], by=['habit'],\n",
    "                     grid=False, \n",
    "                     rot=45, fontsize=15, \n",
    "                     notch = True, \n",
    "                     showfliers = False )\n",
    "plt.suptitle('')\n",
    "plt.show()"
   ]
  },
  {
   "cell_type": "markdown",
   "metadata": {},
   "source": [
    "The box plots show how the medians of the two distributions compare, but we can also compare the means of the distributions using the following to first group the data by the habit variable, and then calculate the mean weight in these groups using the mean function."
   ]
  },
  {
   "cell_type": "code",
   "execution_count": 6,
   "metadata": {},
   "outputs": [
    {
     "data": {
      "text/plain": [
       "habit\n",
       "nonsmoker    7.144273\n",
       "smoker       6.828730\n",
       "dtype: float64"
      ]
     },
     "execution_count": 6,
     "metadata": {},
     "output_type": "execute_result"
    }
   ],
   "source": [
    "weight = df['weight']\n",
    "nsm_weight = df.loc[df['habit'] == 'nonsmoker']['weight']\n",
    "sm_weight = df.loc[df['habit'] == 'smoker']['weight']\n",
    "df.groupby('habit').apply(lambda x: x['weight'].sum()/x['weight'].count())"
   ]
  },
  {
   "cell_type": "markdown",
   "metadata": {},
   "source": [
    "There is an observed difference, but is this difference statistically significant? In order to answer this question we will conduct a hypothesis test."
   ]
  },
  {
   "cell_type": "markdown",
   "metadata": {},
   "source": [
    "## Inference\n",
    "\n",
    "\n",
    "<p>$H_{0}$:$μ_{smoking}$ = $μ_{non−smoking}$</p>\n",
    "$H_{A}$:$μ_{smoking}$ $\\neq$ $μ_{non−smoking}$\n"
   ]
  },
  {
   "cell_type": "markdown",
   "metadata": {},
   "source": [
    "## Distribution of weight where Habit = non-smoking "
   ]
  },
  {
   "cell_type": "code",
   "execution_count": 7,
   "metadata": {
    "scrolled": true
   },
   "outputs": [
    {
     "data": {
      "image/png": "[encoded data removed]",
      "text/plain": [
       "<Figure size 432x288 with 1 Axes>"
      ]
     },
     "metadata": {
      "needs_background": "light"
     },
     "output_type": "display_data"
    }
   ],
   "source": [
    "mu_nonsmoking = round(nsm_weight.mean(),2)\n",
    "n_nonsmoking = len(nsm_weight)\n",
    "sigma_nonsmoking = round(nsm_weight.std(),2)\n",
    "\n",
    "plt.hist(nsm_weight,20, color = 'blue', range = (0,12))\n",
    "plt.text(1., 140, 'n: ' + str(n_nonsmoking) +\n",
    "         '\\nmu: ' + str(mu_nonsmoking) + \n",
    "         '\\nsigma: ' + str(sigma_nonsmoking),\n",
    "        fontsize=12)\n",
    "plt.show()"
   ]
  },
  {
   "cell_type": "markdown",
   "metadata": {},
   "source": [
    "## Distribution of weight where Habit = smoking"
   ]
  },
  {
   "cell_type": "code",
   "execution_count": 8,
   "metadata": {},
   "outputs": [
    {
     "data": {
      "image/png": "[encoded data removed]",
      "text/plain": [
       "<Figure size 432x288 with 1 Axes>"
      ]
     },
     "metadata": {
      "needs_background": "light"
     },
     "output_type": "display_data"
    }
   ],
   "source": [
    "mu_smoking = round(sm_weight.mean(),2)\n",
    "n_smoking = len(sm_weight)\n",
    "sigma_smoking = round(sm_weight.std(),2)\n",
    "\n",
    "plt.hist(sm_weight,10, color = 'blue', range = (0,12))\n",
    "plt.text(1., 35, 'n: ' + str(n_smoking) +\n",
    "         '\\nmu: ' + str(mu_smoking) + \n",
    "         '\\nsigma: ' + str(sigma_smoking),\n",
    "        fontsize=12)\n",
    "plt.show()"
   ]
  },
  {
   "cell_type": "code",
   "execution_count": 9,
   "metadata": {},
   "outputs": [],
   "source": [
    "# Calculating 95% confidence interval\n",
    "cm = sms.CompareMeans(sms.DescrStatsW(nsm_weight), sms.DescrStatsW(sm_weight))\n",
    "ci_values = [round(num, 4) for num in cm.tconfint_diff(usevar='unequal')]"
   ]
  },
  {
   "cell_type": "code",
   "execution_count": 10,
   "metadata": {},
   "outputs": [
    {
     "data": {
      "image/png": "[encoded data removed]",
      "text/plain": [
       "<Figure size 432x288 with 1 Axes>"
      ]
     },
     "metadata": {
      "needs_background": "light"
     },
     "output_type": "display_data"
    }
   ],
   "source": [
    "mu, sigma = weight.mean(), weight.std()\n",
    "s = np.random.normal(mu, sigma, 1000)\n",
    "\n",
    "bins = np.linspace(s.min(), s.max(), 1000)  \n",
    "\n",
    "# Plot the distribution curve with confidence interval\n",
    "plt.plot(bins-mu, 1/(sigma * np.sqrt(2 * np.pi)) *\n",
    "    np.exp( - (bins - mu)**2 / (2 * sigma**2) ),       \n",
    "         linewidth=3, color='r')\n",
    "ci = norm(*norm.fit(s)).interval(0.95)  # fit a normal distribution and get 95% c.i.\n",
    "plt.fill_betweenx([0, 0.4], ci[0]-mu, ci[1]-mu, color='g', alpha=0.1)  # Mark between 0\n",
    "plt.text(-1.5, 0.35, '95% conf_interval: \\n' + str(ci_values),\n",
    "        fontsize=12)\n",
    "plt.show()"
   ]
  },
  {
   "cell_type": "code",
   "execution_count": 11,
   "metadata": {},
   "outputs": [
    {
     "data": {
      "text/plain": [
       "Ttest_indResult(statistic=2.3590109449335013, pvalue=0.01945055644373227)"
      ]
     },
     "execution_count": 11,
     "metadata": {},
     "output_type": "execute_result"
    }
   ],
   "source": [
    "# Calculating t-test and p-value\n",
    "stats.ttest_ind(nsm_weight, sm_weight, axis=0, equal_var=False)"
   ]
  },
  {
   "cell_type": "markdown",
   "metadata": {},
   "source": [
    "## Conclusion\n",
    "\n",
    "We calculated confidence difference between weight of smoking and non-smoking mothers as **[0.05, 0.58]** and p-value of roughly **2%**, which means we would reject null hypothesis.<br>\n",
    "So, we obtained convincing evidence that there is a difference between babies born to nonsmoker mothers are on average ***0.05 to 0.58 pounds heavier*** at birthe than babies born to smoker mothers."
   ]
  }
 ],
 "metadata": {
  "kernelspec": {
   "display_name": "Python 3",
   "language": "python",
   "name": "python3"
  },
  "language_info": {
   "codemirror_mode": {
    "name": "ipython",
    "version": 3
   },
   "file_extension": ".py",
   "mimetype": "text/x-python",
   "name": "python",
   "nbconvert_exporter": "python",
   "pygments_lexer": "ipython3",
   "version": "3.8.3"
  }
 },
 "nbformat": 4,
 "nbformat_minor": 4
}
