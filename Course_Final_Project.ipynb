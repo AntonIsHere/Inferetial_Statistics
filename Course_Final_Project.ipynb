{
 "cells": [
  {
   "cell_type": "code",
   "execution_count": 1,
   "metadata": {},
   "outputs": [],
   "source": [
    "import matplotlib.pyplot as plt\n",
    "import numpy as np\n",
    "import pandas as pd\n",
    "from scipy.stats import stats\n",
    "from scipy.stats import norm\n",
    "from pandasql import sqldf\n",
    "pysqldf = lambda q: sqldf(q, globals())"
   ]
  },
  {
   "cell_type": "markdown",
   "metadata": {},
   "source": [
    "## Disclaimer\n",
    "This notebook based on my final project for Inferential Statistics course by Duke University from https://www.coursera.org/learn/inferential-statistics-intro <br>"
   ]
  },
  {
   "cell_type": "markdown",
   "metadata": {},
   "source": [
    "## Part 1: Data\n",
    "For this project I worked with collected by the National Opinion Research Center (NORC) dataset, which have been produced using questionnaires from 1972 to 2012. Dataset includes 57,061 observations (one for each respondent) and 114 variables (one for each question asked). NORC’s description is stated below:<br>\n",
    "<blockquote>Since 1972, the General Social Survey (GSS) has been monitoring societal change and studying the growing complexity of American society. The GSS aims to gather data on contemporary American society in order to monitor and explain trends and constants in attitudes, behaviors, and attributes; to examine the structure and functioning of society in general as well as the role played by relevant subgroups; to compare the United States to other societies in order to place American society in comparative perspective and develop cross-national models of human society; and to make high-quality data easily accessible to scholars, students, policy makers, and others, with minimal cost and waiting.</blockquote> <br>\n",
    "Source: <a href=\"https://www.norc.org/Research/Projects/Pages/general-social-survey.aspx\" title=\"Wikipedia\">Abstract for the General Social Survey</a>"
   ]
  },
  {
   "cell_type": "markdown",
   "metadata": {},
   "source": [
    "## Part 2: Research question\n",
    "### Background and question:\n",
    "\n",
    "Sam Harris, American author, philosopher and neuroscientist, in his Letter to a Christian Nation stated:<br>\n",
    "<blockquote>While political party affiliation in the United States is not a perfect indicator of religiosity, it is no secret that the ‘red [Republican] states’ are primarily red due to the overwhelming political influence of conservative Christians.</blockquote> <br>\n",
    "I decided to check if there are any differences between proportions of religious and non-religious persons among people with liberal political views. As the survey was made by random sampling, the results of this work can be projected on the whole U.S. population.\n",
    "\n",
    "### Extract of necessary data\n",
    "\n",
    "For project purposes I took three variables:\n",
    "\n",
    "1. **relig** - categorical variable, which shows religous preferences of respondets<br>\n",
    "2. **polviews** - categorical variable, which shows respondents on a a seven-point scale from extremely liberal - point 1 - to extremely conservative - point 7<br>\n",
    "3. **year** - variable used for understanding trends in observable periods"
   ]
  },
  {
   "cell_type": "code",
   "execution_count": 2,
   "metadata": {},
   "outputs": [
    {
     "data": {
      "text/html": [
       "<div>\n",
       "<style scoped>\n",
       "    .dataframe tbody tr th:only-of-type {\n",
       "        vertical-align: middle;\n",
       "    }\n",
       "\n",
       "    .dataframe tbody tr th {\n",
       "        vertical-align: top;\n",
       "    }\n",
       "\n",
       "    .dataframe thead th {\n",
       "        text-align: right;\n",
       "    }\n",
       "</style>\n",
       "<table border=\"1\" class=\"dataframe\">\n",
       "  <thead>\n",
       "    <tr style=\"text-align: right;\">\n",
       "      <th></th>\n",
       "      <th>relig</th>\n",
       "      <th>polviews</th>\n",
       "      <th>year</th>\n",
       "      <th>At_NonAt</th>\n",
       "      <th>Wing</th>\n",
       "    </tr>\n",
       "  </thead>\n",
       "  <tbody>\n",
       "    <tr>\n",
       "      <th>0</th>\n",
       "      <td>Protestant</td>\n",
       "      <td>Moderate</td>\n",
       "      <td>1974</td>\n",
       "      <td>Religious</td>\n",
       "      <td>Other</td>\n",
       "    </tr>\n",
       "    <tr>\n",
       "      <th>1</th>\n",
       "      <td>Protestant</td>\n",
       "      <td>Slightly Conservative</td>\n",
       "      <td>1974</td>\n",
       "      <td>Religious</td>\n",
       "      <td>Other</td>\n",
       "    </tr>\n",
       "    <tr>\n",
       "      <th>2</th>\n",
       "      <td>Protestant</td>\n",
       "      <td>Conservative</td>\n",
       "      <td>1974</td>\n",
       "      <td>Religious</td>\n",
       "      <td>Other</td>\n",
       "    </tr>\n",
       "    <tr>\n",
       "      <th>3</th>\n",
       "      <td>Protestant</td>\n",
       "      <td>Conservative</td>\n",
       "      <td>1974</td>\n",
       "      <td>Religious</td>\n",
       "      <td>Other</td>\n",
       "    </tr>\n",
       "    <tr>\n",
       "      <th>4</th>\n",
       "      <td>Protestant</td>\n",
       "      <td>Conservative</td>\n",
       "      <td>1974</td>\n",
       "      <td>Religious</td>\n",
       "      <td>Other</td>\n",
       "    </tr>\n",
       "    <tr>\n",
       "      <th>...</th>\n",
       "      <td>...</td>\n",
       "      <td>...</td>\n",
       "      <td>...</td>\n",
       "      <td>...</td>\n",
       "      <td>...</td>\n",
       "    </tr>\n",
       "    <tr>\n",
       "      <th>47723</th>\n",
       "      <td>None</td>\n",
       "      <td>Liberal</td>\n",
       "      <td>2012</td>\n",
       "      <td>Non_religious</td>\n",
       "      <td>Liberal</td>\n",
       "    </tr>\n",
       "    <tr>\n",
       "      <th>47724</th>\n",
       "      <td>Catholic</td>\n",
       "      <td>Moderate</td>\n",
       "      <td>2012</td>\n",
       "      <td>Religious</td>\n",
       "      <td>Other</td>\n",
       "    </tr>\n",
       "    <tr>\n",
       "      <th>47725</th>\n",
       "      <td>Catholic</td>\n",
       "      <td>Moderate</td>\n",
       "      <td>2012</td>\n",
       "      <td>Religious</td>\n",
       "      <td>Other</td>\n",
       "    </tr>\n",
       "    <tr>\n",
       "      <th>47726</th>\n",
       "      <td>Catholic</td>\n",
       "      <td>Slightly Conservative</td>\n",
       "      <td>2012</td>\n",
       "      <td>Religious</td>\n",
       "      <td>Other</td>\n",
       "    </tr>\n",
       "    <tr>\n",
       "      <th>47727</th>\n",
       "      <td>Protestant</td>\n",
       "      <td>Moderate</td>\n",
       "      <td>2012</td>\n",
       "      <td>Religious</td>\n",
       "      <td>Other</td>\n",
       "    </tr>\n",
       "  </tbody>\n",
       "</table>\n",
       "<p>47728 rows × 5 columns</p>\n",
       "</div>"
      ],
      "text/plain": [
       "            relig               polviews  year       At_NonAt     Wing\n",
       "0      Protestant               Moderate  1974      Religious    Other\n",
       "1      Protestant  Slightly Conservative  1974      Religious    Other\n",
       "2      Protestant           Conservative  1974      Religious    Other\n",
       "3      Protestant           Conservative  1974      Religious    Other\n",
       "4      Protestant           Conservative  1974      Religious    Other\n",
       "...           ...                    ...   ...            ...      ...\n",
       "47723        None                Liberal  2012  Non_religious  Liberal\n",
       "47724    Catholic               Moderate  2012      Religious    Other\n",
       "47725    Catholic               Moderate  2012      Religious    Other\n",
       "47726    Catholic  Slightly Conservative  2012      Religious    Other\n",
       "47727  Protestant               Moderate  2012      Religious    Other\n",
       "\n",
       "[47728 rows x 5 columns]"
      ]
     },
     "execution_count": 2,
     "metadata": {},
     "output_type": "execute_result"
    }
   ],
   "source": [
    "df = pd.read_csv(\"https://raw.githubusercontent.com/AntonIsHere/Inferetial_Statistics/master/gss.csv\")\n",
    "pd.set_option('mode.chained_assignment', None)\n",
    "df.drop(['Unnamed: 0'], axis = 1, inplace = True)\n",
    "n = df['relig'].count() \n",
    "df"
   ]
  },
  {
   "cell_type": "markdown",
   "metadata": {},
   "source": [
    "### Assumptions made:\n",
    "**Assumption 1:** For the separation of respondents into two groups “Religious” and “Non-religious” I made an assumption, that every respondents who answered “None” about his religious preferences is Non-religious person. Other respondents are assumed to be religious persons.<br>\n",
    "**Assumption 2:** Respondents who answered “Liberal”, “Slightly Liberal” or “Extremely Liberal” about their political views were combined into one group “Liberal”"
   ]
  },
  {
   "cell_type": "markdown",
   "metadata": {},
   "source": [
    "## Part 3: Exploratory data analysis\n",
    "For proportional analysis I calculated % of religious and non-religious liberals. Before analysis, I had an opinion that liberals represent the majority of non-religious people if we divide people on political views.\n",
    "\n",
    "#### SQL parameters:\n",
    "**Rel_L** - number of respondents with **'Religious'** and **'Liberal'** characteristics<br>\n",
    "**Non_Rel_L** - number of respondents with **'Non_Religious'** and **'Liberal'** characteristics<br>\n",
    "**Rel_O** - number of respondents with **'Religious'** and **'Other'** characteristics<br>\n",
    "**Non_Rel_O** - number of respondents with **'Non_Religious'** and **'Other'** characteristics"
   ]
  },
  {
   "cell_type": "code",
   "execution_count": 3,
   "metadata": {},
   "outputs": [
    {
     "data": {
      "text/html": [
       "<div>\n",
       "<style scoped>\n",
       "    .dataframe tbody tr th:only-of-type {\n",
       "        vertical-align: middle;\n",
       "    }\n",
       "\n",
       "    .dataframe tbody tr th {\n",
       "        vertical-align: top;\n",
       "    }\n",
       "\n",
       "    .dataframe thead th {\n",
       "        text-align: right;\n",
       "    }\n",
       "</style>\n",
       "<table border=\"1\" class=\"dataframe\">\n",
       "  <thead>\n",
       "    <tr style=\"text-align: right;\">\n",
       "      <th></th>\n",
       "      <th>year</th>\n",
       "      <th>prop_Rel_L</th>\n",
       "      <th>prop_Non_Rel_L</th>\n",
       "      <th>Rel_L</th>\n",
       "      <th>Non_Rel_L</th>\n",
       "      <th>Rel_O</th>\n",
       "      <th>Non_Rel_O</th>\n",
       "    </tr>\n",
       "  </thead>\n",
       "  <tbody>\n",
       "    <tr>\n",
       "      <th>0</th>\n",
       "      <td>1974</td>\n",
       "      <td>28.419453</td>\n",
       "      <td>59.574468</td>\n",
       "      <td>374</td>\n",
       "      <td>56</td>\n",
       "      <td>942</td>\n",
       "      <td>38</td>\n",
       "    </tr>\n",
       "    <tr>\n",
       "      <th>1</th>\n",
       "      <td>1975</td>\n",
       "      <td>27.916019</td>\n",
       "      <td>56.880734</td>\n",
       "      <td>359</td>\n",
       "      <td>62</td>\n",
       "      <td>927</td>\n",
       "      <td>47</td>\n",
       "    </tr>\n",
       "    <tr>\n",
       "      <th>2</th>\n",
       "      <td>1976</td>\n",
       "      <td>26.955848</td>\n",
       "      <td>51.851852</td>\n",
       "      <td>348</td>\n",
       "      <td>56</td>\n",
       "      <td>943</td>\n",
       "      <td>52</td>\n",
       "    </tr>\n",
       "    <tr>\n",
       "      <th>3</th>\n",
       "      <td>1977</td>\n",
       "      <td>27.525622</td>\n",
       "      <td>51.219512</td>\n",
       "      <td>376</td>\n",
       "      <td>42</td>\n",
       "      <td>990</td>\n",
       "      <td>40</td>\n",
       "    </tr>\n",
       "    <tr>\n",
       "      <th>4</th>\n",
       "      <td>1978</td>\n",
       "      <td>26.631259</td>\n",
       "      <td>46.491228</td>\n",
       "      <td>351</td>\n",
       "      <td>53</td>\n",
       "      <td>967</td>\n",
       "      <td>61</td>\n",
       "    </tr>\n",
       "  </tbody>\n",
       "</table>\n",
       "</div>"
      ],
      "text/plain": [
       "   year  prop_Rel_L  prop_Non_Rel_L  Rel_L  Non_Rel_L  Rel_O  Non_Rel_O\n",
       "0  1974   28.419453       59.574468    374         56    942         38\n",
       "1  1975   27.916019       56.880734    359         62    927         47\n",
       "2  1976   26.955848       51.851852    348         56    943         52\n",
       "3  1977   27.525622       51.219512    376         42    990         40\n",
       "4  1978   26.631259       46.491228    351         53    967         61"
      ]
     },
     "execution_count": 3,
     "metadata": {},
     "output_type": "execute_result"
    }
   ],
   "source": [
    "q = \"\"\"Select year, (Rel_L*100.00/(Rel_O+Rel_L)) prop_Rel_L,(Non_Rel_L*100.00/(Non_Rel_O+Non_Rel_L)) prop_Non_Rel_L, Rel_L, Non_Rel_L, Rel_O, Non_Rel_O FROM\n",
    "(Select * from (Select year, count(At_NonAt) as Rel_L from df where At_NonAt = 'Religious' and Wing = 'Liberal' Group by year) a \n",
    "left join \n",
    "(Select year, count(At_NonAt) as Non_Rel_L from df where At_NonAt = 'Non_religious' and Wing = 'Liberal' Group by year) b\n",
    "ON a.year = b.year\n",
    "left join \n",
    "(Select year, count(At_NonAt) as Non_Rel_O from df where At_NonAt = 'Non_religious' and Wing = 'Other' Group by year) c\n",
    "ON a.year = c.year\n",
    "left join\n",
    "(Select year, count(At_NonAt) as Rel_O from df where At_NonAt = 'Religious' and Wing = 'Other' Group by year) d\n",
    "ON a.year = d.year)\"\"\"\n",
    "\n",
    "gss_distr = pysqldf(q)\n",
    "gss_distr.head()"
   ]
  },
  {
   "cell_type": "code",
   "execution_count": 4,
   "metadata": {},
   "outputs": [
    {
     "data": {
      "image/png": "[encoded data removed]",
      "text/plain": [
       "<Figure size 640x400 with 1 Axes>"
      ]
     },
     "metadata": {
      "needs_background": "light"
     },
     "output_type": "display_data"
    }
   ],
   "source": [
    "# Draw Plot\n",
    "plt.figure(figsize=(16,10), dpi= 40)\n",
    "plt.plot('year', 'prop_Non_Rel_L', data=gss_distr, color='tab:red')\n",
    "plt.plot('year', 'prop_Rel_L', data=gss_distr, color='tab:blue')\n",
    "\n",
    "# Decoration\n",
    "plt.ylim(0, 70)\n",
    "plt.yticks(fontsize=18)\n",
    "plt.xticks(fontsize=18)\n",
    "plt.title(\"Liberals proportion in Religious and Non religious respondents\", fontsize=22)\n",
    "plt.grid(axis='both', alpha=.3)\n",
    "\n",
    "# Remove borders\n",
    "plt.gca().spines[\"top\"].set_alpha(0.0)    \n",
    "plt.gca().spines[\"bottom\"].set_alpha(0.7)\n",
    "plt.gca().spines[\"right\"].set_alpha(0.0)    \n",
    "plt.gca().spines[\"left\"].set_alpha(0.7)   \n",
    "plt.show()"
   ]
  },
  {
   "cell_type": "markdown",
   "metadata": {},
   "source": [
    "The graph above changed my opinion. According to these samples, liberals represent almost 50% of non-religious people and they are not the majority. But we can see that the proportion for non-religious is above than from religious among liberals."
   ]
  },
  {
   "cell_type": "markdown",
   "metadata": {},
   "source": [
    "## Part 4: Inference\n",
    "### Hypothesis\n",
    "**Null hypothesis (H0):** The mean difference in proportions of liberal non-religious and religious persons is zero.<br>\n",
    "**Alternate hypothesis (HA):** The mean difference in proportions of liberal non-religious and religious persons is greater than zero.<br>\n",
    "For hypothesis testing I will use one-sided z-test for two independent sample proportions because there is a large sample with unknown variance and the differences can be met only to the left from 0 on the graph.\n",
    "\n",
    "### Conditions check in context of the data\n",
    "There should be 2 checks: for independence and sample/size skew\n",
    "\n",
    "**1. Independence:**\n",
    "\n",
    "<ul>\n",
    " <li>within groups: Random sample conducted and n is less than 10%</li>\n",
    " <li>between groups: Observable groups are independent from each other</li>\n",
    " </ul>\n",
    "\n",
    "**2. Sample size/skew** <br> \n",
    "For this condition the number of successes and failures was calculated using the code below:"
   ]
  },
  {
   "cell_type": "code",
   "execution_count": 5,
   "metadata": {
    "scrolled": true
   },
   "outputs": [
    {
     "name": "stdout",
     "output_type": "stream",
     "text": [
      "p_pool: 0.27346630908481395\n",
      "n_1_success: 11623.685467650017\n",
      "n_1_fails: 30881.31453234998\n",
      "n_2_success: 1428.3145323499832\n",
      "n_2_fails: 3794.6854676500166\n",
      "SE: 0.006535613911283399\n"
     ]
    }
   ],
   "source": [
    "q = \"\"\"SELECT SUM(Rel_L) Rel_L, SUM(Non_Rel_L) Non_Rel_L, SUM(Rel_O) Rel_O, SUM(Non_Rel_O) Non_Rel_O FROM gss_distr\"\"\"\n",
    "gss_distr_aggr = pysqldf(q)\n",
    "p_pool = (gss_distr_aggr.iloc[0]['Rel_L']+gss_distr_aggr.iloc[0]['Non_Rel_L'])/n\n",
    "n_1 = (gss_distr_aggr.iloc[0]['Rel_L']+gss_distr_aggr.iloc[0]['Rel_O'])\n",
    "n_2 = (gss_distr_aggr.iloc[0]['Non_Rel_L']+gss_distr_aggr.iloc[0]['Non_Rel_O'])\n",
    "n_1_success = p_pool * n_1\n",
    "n_1_fails = (1 - p_pool) * n_1\n",
    "n_2_success = p_pool * n_2\n",
    "n_2_fails = (1 - p_pool) * n_2\n",
    "SE = ((p_pool*(1 - p_pool)/n_1) + (p_pool*(1 - p_pool)/n_2))**0.5\n",
    "\n",
    "print('p_pool: ' + str(p_pool))\n",
    "print('n_1_success: ' + str(n_1_success))\n",
    "print('n_1_fails: ' + str(n_1_fails))\n",
    "print('n_2_success: ' + str(n_2_success))\n",
    "print('n_2_fails: ' + str(n_2_fails))\n",
    "print('SE: ' + str(SE))"
   ]
  },
  {
   "cell_type": "markdown",
   "metadata": {},
   "source": [
    "Calculations above confirm that the success-failure criterion is met, since there are more than 10 successes and failures. So in this case, theoretical approach can be used instead of simulations."
   ]
  },
  {
   "cell_type": "markdown",
   "metadata": {},
   "source": [
    "### Distribution and p-value\n",
    "Since all the conditions are met, **p-value** can be calculated using this code:"
   ]
  },
  {
   "cell_type": "code",
   "execution_count": 6,
   "metadata": {},
   "outputs": [],
   "source": [
    "p_hat_Religious = gss_distr_aggr.iloc[0]['Rel_L']/(gss_distr_aggr.iloc[0]['Rel_L']+gss_distr_aggr.iloc[0]['Rel_O'])\n",
    "p_hat_Non_Religious = gss_distr_aggr.iloc[0]['Non_Rel_L']/(gss_distr_aggr.iloc[0]['Non_Rel_L']+gss_distr_aggr.iloc[0]['Non_Rel_O'])\n",
    "point_estimate = p_hat_Non_Religious - p_hat_Religious\n",
    "Z = (point_estimate-0)/SE"
   ]
  },
  {
   "cell_type": "markdown",
   "metadata": {},
   "source": [
    "Test statistic shows us that differences in proportions are **30.5489** standard deviations away from the mean, so it gives us almost zero p-value and we can reject the null hypothesis."
   ]
  },
  {
   "cell_type": "code",
   "execution_count": 7,
   "metadata": {},
   "outputs": [],
   "source": [
    "CI = point_estimate + np.array([-1, 1]) * norm.ppf(0.995) *((((p_hat_Non_Religious * (1-p_hat_Non_Religious))/n_2)+((p_hat_Religious * (1-p_hat_Religious))/n_1))**0.5)"
   ]
  },
  {
   "cell_type": "code",
   "execution_count": 8,
   "metadata": {},
   "outputs": [
    {
     "data": {
      "image/png": "[encoded data removed]",
      "text/plain": [
       "<Figure size 432x288 with 1 Axes>"
      ]
     },
     "metadata": {
      "needs_background": "light"
     },
     "output_type": "display_data"
    },
    {
     "name": "stdout",
     "output_type": "stream",
     "text": [
      "Confidence interval: 18.11% - 21.82%\n"
     ]
    }
   ],
   "source": [
    "# Data\n",
    "r = [0,1]\n",
    "raw_data = {'greenBars': [p_hat_Religious, 1-p_hat_Religious], 'orangeBars': [p_hat_Non_Religious, 1-p_hat_Non_Religious]}\n",
    "df_bar = pd.DataFrame(raw_data)\n",
    " \n",
    "# From raw value to percentage\n",
    "#totals = [i+j+k for i,j,k in zip(df['greenBars'], df['orangeBars']]\n",
    "greenBars = [1-p_hat_Non_Religious, 1-p_hat_Religious]\n",
    "orangeBars = [p_hat_Non_Religious, p_hat_Religious]\n",
    " \n",
    "# plot\n",
    "barWidth = 0.85\n",
    "names = ('Non_Religious','Religious')\n",
    "# Create green Bars\n",
    "plt.bar(r, greenBars, color='#b5ffb9', edgecolor='white', width=barWidth, label = \"Other\")\n",
    "# Create orange Bars\n",
    "plt.bar(r, orangeBars, bottom=greenBars, color='#f9bc86', edgecolor='white', width=barWidth, label = \"Liberal\")\n",
    " \n",
    "# Custom x axis\n",
    "plt.xticks(r, names)\n",
    "plt.legend(loc='upper left', bbox_to_anchor=(1,1), ncol=1)\n",
    " \n",
    "# Show graphic\n",
    "plt.show()\n",
    "print('Confidence interval: ' +str(round(CI[0]*100,2)) + '% - ' + str(round(CI[1]*100,2)) + '%')"
   ]
  },
  {
   "cell_type": "markdown",
   "metadata": {},
   "source": [
    "We are 99% confident that the proportion of non-religious respondents, who has liberal political views, is **18.11% to 21.82%** higher than the proportion of religious with liberal political views."
   ]
  },
  {
   "cell_type": "markdown",
   "metadata": {},
   "source": [
    "## Conclusion\n",
    "As concluded in Part 3: Exploratory data analysis, I expected to see that the proportion for non-religious is above than from religious among liberals. Conducting statistical test of two independent I gained strong evidence of the higher proportion of liberals than in non-religious respondents. This project does not provide causality relationships between political and religious views, but further investigations about attributes of liberal and conservative people can be conducted."
   ]
  }
 ],
 "metadata": {
  "kernelspec": {
   "display_name": "Python 3",
   "language": "python",
   "name": "python3"
  },
  "language_info": {
   "codemirror_mode": {
    "name": "ipython",
    "version": 3
   },
   "file_extension": ".py",
   "mimetype": "text/x-python",
   "name": "python",
   "nbconvert_exporter": "python",
   "pygments_lexer": "ipython3",
   "version": "3.8.3"
  }
 },
 "nbformat": 4,
 "nbformat_minor": 4
}
