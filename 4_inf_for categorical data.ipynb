{
 "cells": [
  {
   "cell_type": "code",
   "execution_count": 1,
   "metadata": {},
   "outputs": [],
   "source": [
    "import matplotlib.pyplot as plt\n",
    "import numpy as np\n",
    "import pandas as pd\n",
    "import matplotlib.lines as mlines\n",
    "import seaborn as sns\n",
    "from scipy.stats import norm\n",
    "from scipy.stats import stats\n",
    "from statsmodels.stats.proportion import proportions_ztest\n",
    "from statsmodels.stats.proportion import proportion_confint"
   ]
  },
  {
   "cell_type": "markdown",
   "metadata": {},
   "source": [
    "## Disclaimer\n",
    "This notebook based on labs from Inferential Statistics course by Duke University from https://www.coursera.org/learn/inferential-statistics-intro <br>\n",
    "I adapted R code from these labs and reproduced in Jupyter Notebooks and rewrote in Python"
   ]
  },
  {
   "cell_type": "markdown",
   "metadata": {},
   "source": [
    "## Inference for categorical data\n",
    "In August of 2012, news outlets ranging from the [Washington Post](http://www.washingtonpost.com/national/on-faith/poll-shows-atheism-on-the-rise-in-the-us/2012/08/13/90020fd6-e57d-11e1-9739-eef99c5fb285_story.html) to the [Huffington Post](http://www.huffingtonpost.com/2012/08/14/atheism-rise-religiosity-decline-in-america_n_1777031.html) ran a story about the rise of atheism in America. The source for the story was a poll that asked people, \"Irrespective of whether you attend a place of worship or not, would you say you are a religious person, not a religious person or a convinced atheist?\" This type of question, which asks people to classify themselves in one way or another, is common in polling and generates categorical data. In this lab we take a look at the atheism survey and explore what's at play when making inference about population proportions using categorical data.\n",
    "\n",
    "### The survey\n",
    "\n",
    "The press release for the poll, conducted by WIN-Gallup International, can be accessed [here](https://www.scribd.com/document/136318147/Win-gallup-International-Global-Index-of-Religiosity-and-Atheism-2012).\n"
   ]
  },
  {
   "cell_type": "code",
   "execution_count": 2,
   "metadata": {},
   "outputs": [
    {
     "data": {
      "text/html": [
       "<div>\n",
       "<style scoped>\n",
       "    .dataframe tbody tr th:only-of-type {\n",
       "        vertical-align: middle;\n",
       "    }\n",
       "\n",
       "    .dataframe tbody tr th {\n",
       "        vertical-align: top;\n",
       "    }\n",
       "\n",
       "    .dataframe thead th {\n",
       "        text-align: right;\n",
       "    }\n",
       "</style>\n",
       "<table border=\"1\" class=\"dataframe\">\n",
       "  <thead>\n",
       "    <tr style=\"text-align: right;\">\n",
       "      <th></th>\n",
       "      <th>number</th>\n",
       "      <th>nationality</th>\n",
       "      <th>response</th>\n",
       "      <th>year</th>\n",
       "    </tr>\n",
       "  </thead>\n",
       "  <tbody>\n",
       "    <tr>\n",
       "      <th>0</th>\n",
       "      <td>1</td>\n",
       "      <td>Afghanistan</td>\n",
       "      <td>non-atheist</td>\n",
       "      <td>2012</td>\n",
       "    </tr>\n",
       "    <tr>\n",
       "      <th>1</th>\n",
       "      <td>2</td>\n",
       "      <td>Afghanistan</td>\n",
       "      <td>non-atheist</td>\n",
       "      <td>2012</td>\n",
       "    </tr>\n",
       "    <tr>\n",
       "      <th>2</th>\n",
       "      <td>3</td>\n",
       "      <td>Afghanistan</td>\n",
       "      <td>non-atheist</td>\n",
       "      <td>2012</td>\n",
       "    </tr>\n",
       "    <tr>\n",
       "      <th>3</th>\n",
       "      <td>4</td>\n",
       "      <td>Afghanistan</td>\n",
       "      <td>non-atheist</td>\n",
       "      <td>2012</td>\n",
       "    </tr>\n",
       "    <tr>\n",
       "      <th>4</th>\n",
       "      <td>5</td>\n",
       "      <td>Afghanistan</td>\n",
       "      <td>non-atheist</td>\n",
       "      <td>2012</td>\n",
       "    </tr>\n",
       "  </tbody>\n",
       "</table>\n",
       "</div>"
      ],
      "text/plain": [
       "   number  nationality     response  year\n",
       "0       1  Afghanistan  non-atheist  2012\n",
       "1       2  Afghanistan  non-atheist  2012\n",
       "2       3  Afghanistan  non-atheist  2012\n",
       "3       4  Afghanistan  non-atheist  2012\n",
       "4       5  Afghanistan  non-atheist  2012"
      ]
     },
     "execution_count": 2,
     "metadata": {},
     "output_type": "execute_result"
    }
   ],
   "source": [
    "df = pd.read_csv(\"https://raw.githubusercontent.com/AntonIsHere/Inferetial_Statistics/master/atheism.csv\")\n",
    "df.rename(columns={df.columns[0]: \"number\" }, inplace = True)\n",
    "df.groupby('response').count()['number']\n",
    "df.head()"
   ]
  },
  {
   "cell_type": "markdown",
   "metadata": {},
   "source": [
    "Create a new dataframe called df2012 that contains only the rows in atheism associated with respondents to the 2012 survey from the United States:"
   ]
  },
  {
   "cell_type": "code",
   "execution_count": 3,
   "metadata": {
    "scrolled": true
   },
   "outputs": [],
   "source": [
    "pd.set_option('mode.chained_assignment', None)\n",
    "df2012USA = df.loc[(df['nationality'] == 'United States') & (df['year'] == 2012)]\n",
    "df2012USA.reset_index(inplace=True)\n",
    "df2012USA.drop(['number', 'index'], axis = 1, inplace = True) \n",
    "#del df2012['number']\n",
    "#del df2012['index']"
   ]
  },
  {
   "cell_type": "code",
   "execution_count": 4,
   "metadata": {},
   "outputs": [
    {
     "data": {
      "text/html": [
       "<div>\n",
       "<style scoped>\n",
       "    .dataframe tbody tr th:only-of-type {\n",
       "        vertical-align: middle;\n",
       "    }\n",
       "\n",
       "    .dataframe tbody tr th {\n",
       "        vertical-align: top;\n",
       "    }\n",
       "\n",
       "    .dataframe thead th {\n",
       "        text-align: right;\n",
       "    }\n",
       "</style>\n",
       "<table border=\"1\" class=\"dataframe\">\n",
       "  <thead>\n",
       "    <tr style=\"text-align: right;\">\n",
       "      <th></th>\n",
       "      <th>nationality</th>\n",
       "      <th>response</th>\n",
       "      <th>year</th>\n",
       "    </tr>\n",
       "  </thead>\n",
       "  <tbody>\n",
       "    <tr>\n",
       "      <th>0</th>\n",
       "      <td>United States</td>\n",
       "      <td>non-atheist</td>\n",
       "      <td>2012</td>\n",
       "    </tr>\n",
       "    <tr>\n",
       "      <th>1</th>\n",
       "      <td>United States</td>\n",
       "      <td>non-atheist</td>\n",
       "      <td>2012</td>\n",
       "    </tr>\n",
       "    <tr>\n",
       "      <th>2</th>\n",
       "      <td>United States</td>\n",
       "      <td>non-atheist</td>\n",
       "      <td>2012</td>\n",
       "    </tr>\n",
       "    <tr>\n",
       "      <th>3</th>\n",
       "      <td>United States</td>\n",
       "      <td>non-atheist</td>\n",
       "      <td>2012</td>\n",
       "    </tr>\n",
       "    <tr>\n",
       "      <th>4</th>\n",
       "      <td>United States</td>\n",
       "      <td>non-atheist</td>\n",
       "      <td>2012</td>\n",
       "    </tr>\n",
       "  </tbody>\n",
       "</table>\n",
       "</div>"
      ],
      "text/plain": [
       "     nationality     response  year\n",
       "0  United States  non-atheist  2012\n",
       "1  United States  non-atheist  2012\n",
       "2  United States  non-atheist  2012\n",
       "3  United States  non-atheist  2012\n",
       "4  United States  non-atheist  2012"
      ]
     },
     "execution_count": 4,
     "metadata": {},
     "output_type": "execute_result"
    }
   ],
   "source": [
    "df2012USA.head()"
   ]
  },
  {
   "cell_type": "code",
   "execution_count": 5,
   "metadata": {},
   "outputs": [],
   "source": [
    "bar_data = df2012USA['response'].value_counts(normalize = False).to_frame()\n",
    "#plt.bar(,x['response'])"
   ]
  },
  {
   "cell_type": "code",
   "execution_count": 6,
   "metadata": {},
   "outputs": [
    {
     "data": {
      "image/png": "[encoded data removed]",
      "text/plain": [
       "<Figure size 432x288 with 1 Axes>"
      ]
     },
     "metadata": {
      "needs_background": "light"
     },
     "output_type": "display_data"
    }
   ],
   "source": [
    "z_95 = norm.ppf(.975)\n",
    "x = bar_data.index\n",
    "y = bar_data['response']\n",
    "sample_size = df2012USA.shape[0]\n",
    "sample_success = df2012USA.loc[(df2012USA['response']=='atheist')].shape[0]\n",
    "p_hat = sample_success/df2012USA.shape[0]\n",
    "CI_low, CI_high = proportion_confint(sample_success, sample_size, alpha=0.05, method='normal')\n",
    "\n",
    "fig, ax = plt.subplots()    \n",
    "width = 0.75 # the width of the bars \n",
    "ind = np.arange(len(y))  # the x locations for the groups\n",
    "for i, v in enumerate(y):\n",
    "    ax.text(i-0.05,v+10, str(v), color='black', fontweight='bold')\n",
    "ax.text(0.75,800, str('Sample success: ') + str(sample_success) \n",
    "        + str('\\np_hat: ') + str(round(p_hat,4)) \n",
    "        + str('\\nCI: ')+ str(round(CI_low*100,2)) + str('% - ') + str(round(CI_high*100,2)) + str('%'), \n",
    "        color='black', fontweight='bold')\n",
    "ax.bar(ind,y, width, color=\"blue\")\n",
    "ax.set_xticks(ind)\n",
    "ax.set_xticklabels(x, minor=False)\n",
    "plt.title('Sample Distribution')\n",
    "plt.gca().spines[\"top\"].set_alpha(0.0)    \n",
    "plt.show()"
   ]
  },
  {
   "cell_type": "markdown",
   "metadata": {},
   "source": [
    "In general, the error margin for surveys of this kind is ± 3-5% at 95% confidence."
   ]
  },
  {
   "cell_type": "code",
   "execution_count": 7,
   "metadata": {},
   "outputs": [
    {
     "name": "stdout",
     "output_type": "stream",
     "text": [
      "Standard error: 0.006878629122390021\n",
      "Margin of error: 0.0134818653428928\n"
     ]
    }
   ],
   "source": [
    "SE = ((p_hat*(1-p_hat))/sample_size)**0.5\n",
    "ME = SE * z_95\n",
    "print('Standard error: ' + str(SE))\n",
    "print('Margin of error: ' + str(ME))"
   ]
  },
  {
   "cell_type": "markdown",
   "metadata": {},
   "source": [
    "### How does the proportion affect the margin of error?"
   ]
  },
  {
   "cell_type": "markdown",
   "metadata": {},
   "source": [
    "Imagine you’ve set out to survey 1000 people on two questions: are you female? and are you left-handed? Since both of these sample proportions were calculated from the same sample size, they should have the same margin of error, right? Wrong! While the margin of error does change with sample size, it is also affected by the proportion."
   ]
  },
  {
   "cell_type": "markdown",
   "metadata": {},
   "source": [
    "Think back to the formula for the standard error: <p>$SE={\\sqrt{p(1−p)/n}}$</p> This is then used in the formula for the margin of error for a 95% confidence interval: <p>$ME=1.96×SE=1.96×{\\sqrt{p(1−p)/n}}$</p> Since the population proportion **p** is in this **ME** formula, it should make sense that the margin of error is in some way dependent on the population proportion. We can visualize this relationship by creating a plot of **ME vs. p**.\n",
    "\n",
    "The first step is to make a vector **p** that is a sequence from **0 to 1** with each number separated by **0.01**. We can then create a vector of the margin of error (me) associated with each of these values of **p** using the familiar approximate formula **(ME=1.96×SE)**. Lastly, we plot the two vectors against each other to reveal their relationship."
   ]
  },
  {
   "cell_type": "code",
   "execution_count": 8,
   "metadata": {},
   "outputs": [
    {
     "data": {
      "image/png": "[encoded data removed]",
      "text/plain": [
       "<Figure size 432x288 with 1 Axes>"
      ]
     },
     "metadata": {
      "needs_background": "light"
     },
     "output_type": "display_data"
    }
   ],
   "source": [
    "df_p = pd.DataFrame(columns =['ME', 'p'])\n",
    "for p in np.arange(0,1.01,0.01):\n",
    "    ME = z_95 * (((p*(1-p))/1000)**0.5)\n",
    "    df_p = df_p.append({'ME': ME, 'p': p},ignore_index=True)\n",
    "df_p\n",
    "\n",
    "# Draw Plot\n",
    "fig, ax = plt.subplots()    \n",
    "ax.plot('p', 'ME', data=df_p, color='tab:red')\n",
    "\n",
    "# Decoration\n",
    "ax.set_title('Relationship between ME and p')\n",
    "ax.set_ylabel('ME')\n",
    "ax.set_xlabel('p')\n",
    "plt.ylim(0.00, 0.035)\n",
    "plt.gca().spines[\"top\"].set_alpha(0.0)    \n",
    "plt.show()"
   ]
  }
 ],
 "metadata": {
  "kernelspec": {
   "display_name": "Python 3",
   "language": "python",
   "name": "python3"
  },
  "language_info": {
   "codemirror_mode": {
    "name": "ipython",
    "version": 3
   },
   "file_extension": ".py",
   "mimetype": "text/x-python",
   "name": "python",
   "nbconvert_exporter": "python",
   "pygments_lexer": "ipython3",
   "version": "3.8.3"
  }
 },
 "nbformat": 4,
 "nbformat_minor": 4
}
