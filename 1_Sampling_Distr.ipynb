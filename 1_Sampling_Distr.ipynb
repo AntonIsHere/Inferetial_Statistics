{
 "cells": [
  {
   "cell_type": "code",
   "execution_count": 11,
   "metadata": {},
   "outputs": [],
   "source": [
    "import matplotlib.pyplot as plt\n",
    "import numpy as np\n",
    "import sys\n",
    "import pandas as pd\n",
    "import random"
   ]
  },
  {
   "cell_type": "markdown",
   "metadata": {},
   "source": [
    "## The data\n",
    "We consider real estate data from the city of Ames, Iowa. The details of every real estate transaction in Ames is recorded by the City Assessor’s office. Our particular focus for this lab will be all residential home sales in Ames between 2006 and 2010. This collection represents our population of interest. In this lab we would like to learn about these home sales by taking smaller samples from the full population. Let’s load the data."
   ]
  },
  {
   "cell_type": "code",
   "execution_count": 12,
   "metadata": {},
   "outputs": [],
   "source": [
    "data_frame = pd.read_csv(\"E:\\\\OneDrive\\\\Антон\\\\Way\\\\Python\\\\Jupyter_books\\\\Inferential Statistics\\\\ames.csv\")\n",
    "#data_frame = pd.read_csv(\"C:\\\\Users\\\\likel\\\\OneDrive\\\\Антон\\\\Way\\\\Python\\\\Jupyter_books\\\\Inferential Statistics\\\\ames.csv\")\n",
    "# print(data_frame)\n",
    "# data_frame.to_csv(output_file, index=False)\n",
    "area = data_frame['area']"
   ]
  },
  {
   "cell_type": "code",
   "execution_count": 13,
   "metadata": {
    "scrolled": true
   },
   "outputs": [],
   "source": [
    "# Average:\n",
    "area_avg = round(np.average(area),2)\n",
    "# Median:\n",
    "area_med = np.median(area)\n",
    "# Standard Deviation:\n",
    "area_sigma = round(np.std(area),2)\n",
    "# Interquartile range:\n",
    "q75, q25 = np.percentile(area, [75,25])\n",
    "area_IQR = q75 - q25\n",
    "# Min_Max\n",
    "area_min = np.min(area)\n",
    "area_max = np.max(area)\n",
    "#First and Third quartile (25th and 75 percentile)\n",
    "area_q1 = np.percentile(area, 25)\n",
    "area_q3 = np.percentile(area, 75)\n",
    "# Define percentile:\n",
    "# q25, q0 = np.percentile(area, [75,50])"
   ]
  },
  {
   "cell_type": "markdown",
   "metadata": {},
   "source": [
    "We see that there are quite a few variables in the data set, enough to do a very in-depth analysis. For this lab, we’ll restrict our attention to just two of the variables: the above ground living area of the house in square feet (area) and the sale price (price).\n",
    "\n",
    "We can explore the distribution of areas of homes in the population of home sales visually and with summary statistics. \n",
    "Let’s first create a visualization, a histogram:"
   ]
  },
  {
   "cell_type": "code",
   "execution_count": 14,
   "metadata": {},
   "outputs": [
    {
     "data": {
      "image/png": "[encoded data removed]",
      "text/plain": [
       "<Figure size 432x288 with 1 Axes>"
      ]
     },
     "metadata": {
      "needs_background": "light"
     },
     "output_type": "display_data"
    }
   ],
   "source": [
    "plt.hist(area,20, color = 'blue')\n",
    "plt.show()"
   ]
  },
  {
   "cell_type": "markdown",
   "metadata": {},
   "source": [
    "Let’s also obtain some summary statistics. Note that we can do this using the summarise function. We can calculate as many statistics as we want using this function, and just string along the results. Some of the functions below should be self explanatory (like mean, median, sd, IQR,  min, and max)."
   ]
  },
  {
   "cell_type": "code",
   "execution_count": 15,
   "metadata": {},
   "outputs": [
    {
     "data": {
      "text/html": [
       "<div>\n",
       "<style scoped>\n",
       "    .dataframe tbody tr th:only-of-type {\n",
       "        vertical-align: middle;\n",
       "    }\n",
       "\n",
       "    .dataframe tbody tr th {\n",
       "        vertical-align: top;\n",
       "    }\n",
       "\n",
       "    .dataframe thead th {\n",
       "        text-align: right;\n",
       "    }\n",
       "</style>\n",
       "<table border=\"1\" class=\"dataframe\">\n",
       "  <thead>\n",
       "    <tr style=\"text-align: right;\">\n",
       "      <th></th>\n",
       "      <th>mu</th>\n",
       "      <th>pop_med</th>\n",
       "      <th>sigma</th>\n",
       "      <th>pop_iqr</th>\n",
       "      <th>pop_min</th>\n",
       "      <th>pop_max</th>\n",
       "      <th>pop_q1</th>\n",
       "      <th>pop_q3</th>\n",
       "    </tr>\n",
       "  </thead>\n",
       "  <tbody>\n",
       "    <tr>\n",
       "      <th>0</th>\n",
       "      <td>1499.69</td>\n",
       "      <td>1442.0</td>\n",
       "      <td>505.42</td>\n",
       "      <td>616.75</td>\n",
       "      <td>334</td>\n",
       "      <td>5642</td>\n",
       "      <td>1126.0</td>\n",
       "      <td>1742.75</td>\n",
       "    </tr>\n",
       "  </tbody>\n",
       "</table>\n",
       "</div>"
      ],
      "text/plain": [
       "        mu  pop_med   sigma  pop_iqr  pop_min  pop_max  pop_q1   pop_q3\n",
       "0  1499.69   1442.0  505.42   616.75      334     5642  1126.0  1742.75"
      ]
     },
     "execution_count": 15,
     "metadata": {},
     "output_type": "execute_result"
    }
   ],
   "source": [
    "# Creating table\n",
    "d = {'mu': [area_avg], 'pop_med': [area_med], \n",
    "     'sigma': [area_sigma], 'pop_iqr':[area_IQR],  \n",
    "     'pop_min': [area_min], 'pop_max': [area_max], \n",
    "     'pop_q1': [area_q1], 'pop_q3':[area_q3]}\n",
    "Summary_area_stat = pd.DataFrame(data = d)\n",
    "Summary_area_stat"
   ]
  },
  {
   "cell_type": "markdown",
   "metadata": {},
   "source": [
    "## The unknown sampling distribution\n",
    "\n",
    "In this lab we have access to the entire population, but this is rarely the case in real life. Gathering information on an entire population is often extremely costly or impossible. Because of this, we often take a sample of the population and use that to understand the properties of the population.\n",
    "\n",
    "If we were interested in estimating the mean living area in Ames based on a sample, we can use the following command to survey the population."
   ]
  },
  {
   "cell_type": "code",
   "execution_count": 16,
   "metadata": {},
   "outputs": [],
   "source": [
    "sample_size = 50\n",
    "samp1 = random.sample(list(area), sample_size)"
   ]
  },
  {
   "cell_type": "markdown",
   "metadata": {},
   "source": [
    "This command collects a simple random sample of size 50 from the ames dataset, which is assigned to samp1. This is like going into the City Assessor’s database and pulling up the files on 50 random home sales. Working with these 50 files would be considerably simpler than working with all 2930 home sales."
   ]
  },
  {
   "cell_type": "markdown",
   "metadata": {},
   "source": [
    "If we’re interested in estimating the average living area in homes in Ames using the sample, our best single guess is the sample mean."
   ]
  },
  {
   "cell_type": "code",
   "execution_count": 17,
   "metadata": {},
   "outputs": [],
   "source": [
    "samp1_mean = np.average(samp1)"
   ]
  },
  {
   "cell_type": "markdown",
   "metadata": {},
   "source": [
    "Depending on which 50 homes you selected, your estimate could be a bit above or a bit below the true population mean of 1,499.69 square feet. In general, though, the sample mean turns out to be a pretty good estimate of the average living area, and we were able to get it by sampling less than 3% of the population."
   ]
  },
  {
   "cell_type": "markdown",
   "metadata": {},
   "source": [
    "Let’s take one more sample of size 50, and view the mean area in this sample:"
   ]
  },
  {
   "cell_type": "code",
   "execution_count": 18,
   "metadata": {},
   "outputs": [],
   "source": [
    "samp2 = random.sample(list(area), sample_size)\n",
    "samp2_mean = np.average(samp1)"
   ]
  },
  {
   "cell_type": "markdown",
   "metadata": {},
   "source": [
    "Not surprisingly, every time we take another random sample, we get a different sample mean. It’s useful to get a sense of just how much variability we should expect when estimating the population mean this way. The distribution of sample means, called the sampling distribution, can help us understand this variability. In this lab, because we have access to the population, we can build up the sampling distribution for the sample mean by repeating the above steps many times. Here we will generate 15,000 samples and compute the sample mean of each. Note that we are sampling with replacement, replace = TRUE since sampling distributions are constructed with sampling with replacement."
   ]
  },
  {
   "cell_type": "code",
   "execution_count": 19,
   "metadata": {},
   "outputs": [],
   "source": [
    "area_mu50 = []\n",
    "\n",
    "for i in range(15000): # 15000 times - we generate a random samples of 50 elements \n",
    "    samp_i = random.sample(list(area), sample_size)\n",
    "    samp_avg_i = np.average(samp_i)\n",
    "    # generates a list of averages of samples\n",
    "    area_mu50.append(samp_avg_i) # sum all elements\n",
    "# len(area_sample_list)"
   ]
  },
  {
   "cell_type": "code",
   "execution_count": 20,
   "metadata": {},
   "outputs": [
    {
     "data": {
      "image/png": "[encoded data removed]",
      "text/plain": [
       "<Figure size 432x288 with 1 Axes>"
      ]
     },
     "metadata": {
      "needs_background": "light"
     },
     "output_type": "display_data"
    }
   ],
   "source": [
    "plt.hist(area_mu50,30, color = 'blue')\n",
    "plt.show()"
   ]
  },
  {
   "cell_type": "markdown",
   "metadata": {},
   "source": [
    "Here we use Python to take 15,000 samples of size 50 from the population, calculate the mean of each sample, and store each result in a vector caarea_mu50lled  area_mu50. Next, we review how this set of code works."
   ]
  }
 ],
 "metadata": {
  "kernelspec": {
   "display_name": "Python 3",
   "language": "python",
   "name": "python3"
  },
  "language_info": {
   "codemirror_mode": {
    "name": "ipython",
    "version": 3
   },
   "file_extension": ".py",
   "mimetype": "text/x-python",
   "name": "python",
   "nbconvert_exporter": "python",
   "pygments_lexer": "ipython3",
   "version": "3.8.3"
  }
 },
 "nbformat": 4,
 "nbformat_minor": 4
}
